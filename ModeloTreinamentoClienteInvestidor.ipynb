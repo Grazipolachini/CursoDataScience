{
  "nbformat": 4,
  "nbformat_minor": 0,
  "metadata": {
    "colab": {
      "provenance": [],
      "authorship_tag": "ABX9TyO2kZQNCf1f4/XJwBUgV+sE",
      "include_colab_link": true
    },
    "kernelspec": {
      "name": "python3",
      "display_name": "Python 3"
    },
    "language_info": {
      "name": "python"
    }
  },
  "cells": [
    {
      "cell_type": "markdown",
      "metadata": {
        "id": "view-in-github",
        "colab_type": "text"
      },
      "source": [
        "<a href=\"https://colab.research.google.com/github/Grazipolachini/CursoDataScience/blob/main/ModeloTreinamentoClienteInvestidor.ipynb\" target=\"_parent\"><img src=\"https://colab.research.google.com/assets/colab-badge.svg\" alt=\"Open In Colab\"/></a>"
      ]
    },
    {
      "cell_type": "code",
      "execution_count": null,
      "metadata": {
        "colab": {
          "base_uri": "https://localhost:8080/",
          "height": 429
        },
        "id": "Ltf6arvgNt7r",
        "outputId": "8d845539-6446-43a9-fbee-9477392f63cd"
      },
      "outputs": [
        {
          "output_type": "stream",
          "name": "stdout",
          "text": [
            "Drive already mounted at /content/drive; to attempt to forcibly remount, call drive.mount(\"/content/drive\", force_remount=True).\n",
            "(500000, 25)\n"
          ]
        },
        {
          "output_type": "execute_result",
          "data": {
            "text/plain": [
              "   ID             CPF                  NOME       SEXO  UF            CIDADE  \\\n",
              "0   1  321.564.087-26         Arthur Borges  Masculino  MG    Belo Horizonte   \n",
              "1   2  386.194.205-42  Sra. Manuela da Mota  Masculino  BA  Feira de Santana   \n",
              "2   3  169.284.507-11         Camila Garcia  Masculino  BA          Salvador   \n",
              "3   4  531.097.268-40        Mateus da Mota  Masculino  RS     Caxias do Sul   \n",
              "4   5  534.960.127-06           Ravi Garcia  Masculino  MG        Uberlândia   \n",
              "\n",
              "   idade Data de nascimento  valor da Renda Classe social  ...  \\\n",
              "0     58         1967-04-29        18973.71             D  ...   \n",
              "1     65         1959-09-21        10352.97             B  ...   \n",
              "2     50         1974-08-19        26725.19             B  ...   \n",
              "3     69         1956-06-24        10194.89             D  ...   \n",
              "4     23         2001-12-04        16670.91             C  ...   \n",
              "\n",
              "  Valor Resgate investimento Valor Posição investimento Data primeiro aporte  \\\n",
              "0                     396.91                    4691.84           2021-03-11   \n",
              "1                    4820.04                   17497.79           2017-05-28   \n",
              "2                     625.34                   26299.80           2016-11-02   \n",
              "3                     966.73                    2937.84           2016-02-24   \n",
              "4                   40610.84                   64173.37           2019-07-09   \n",
              "\n",
              "   Data último resgate  Quantidade de papéis contratados  \\\n",
              "0           2021-04-18                                 4   \n",
              "1           2021-06-19                                 4   \n",
              "2           2025-01-26                                 3   \n",
              "3           2018-11-15                                 3   \n",
              "4           2024-06-16                                 6   \n",
              "\n",
              "   Tipo perfil investidor  Suitability Data de cadastro suitability  \\\n",
              "0             Conservador         Alto                   2023-04-07   \n",
              "1             Conservador        Baixo                   2022-07-09   \n",
              "2                Arrojado        Médio                   2023-06-13   \n",
              "3                Moderado        Baixo                   2024-04-28   \n",
              "4                Moderado         Alto                   2022-12-05   \n",
              "\n",
              "  Classificação do perfil do investidor  Limite de Crédito  \n",
              "0                                   NaN           17926.04  \n",
              "1                                  Gold           12122.45  \n",
              "2                                   NaN           16613.36  \n",
              "3                                Silver           15624.59  \n",
              "4                                   NaN           -9395.05  \n",
              "\n",
              "[5 rows x 25 columns]"
            ],
            "text/html": [
              "\n",
              "  <div id=\"df-75077c62-9ce9-4e3e-a554-c076b00a4b44\" class=\"colab-df-container\">\n",
              "    <div>\n",
              "<style scoped>\n",
              "    .dataframe tbody tr th:only-of-type {\n",
              "        vertical-align: middle;\n",
              "    }\n",
              "\n",
              "    .dataframe tbody tr th {\n",
              "        vertical-align: top;\n",
              "    }\n",
              "\n",
              "    .dataframe thead th {\n",
              "        text-align: right;\n",
              "    }\n",
              "</style>\n",
              "<table border=\"1\" class=\"dataframe\">\n",
              "  <thead>\n",
              "    <tr style=\"text-align: right;\">\n",
              "      <th></th>\n",
              "      <th>ID</th>\n",
              "      <th>CPF</th>\n",
              "      <th>NOME</th>\n",
              "      <th>SEXO</th>\n",
              "      <th>UF</th>\n",
              "      <th>CIDADE</th>\n",
              "      <th>idade</th>\n",
              "      <th>Data de nascimento</th>\n",
              "      <th>valor da Renda</th>\n",
              "      <th>Classe social</th>\n",
              "      <th>...</th>\n",
              "      <th>Valor Resgate investimento</th>\n",
              "      <th>Valor Posição investimento</th>\n",
              "      <th>Data primeiro aporte</th>\n",
              "      <th>Data último resgate</th>\n",
              "      <th>Quantidade de papéis contratados</th>\n",
              "      <th>Tipo perfil investidor</th>\n",
              "      <th>Suitability</th>\n",
              "      <th>Data de cadastro suitability</th>\n",
              "      <th>Classificação do perfil do investidor</th>\n",
              "      <th>Limite de Crédito</th>\n",
              "    </tr>\n",
              "  </thead>\n",
              "  <tbody>\n",
              "    <tr>\n",
              "      <th>0</th>\n",
              "      <td>1</td>\n",
              "      <td>321.564.087-26</td>\n",
              "      <td>Arthur Borges</td>\n",
              "      <td>Masculino</td>\n",
              "      <td>MG</td>\n",
              "      <td>Belo Horizonte</td>\n",
              "      <td>58</td>\n",
              "      <td>1967-04-29</td>\n",
              "      <td>18973.71</td>\n",
              "      <td>D</td>\n",
              "      <td>...</td>\n",
              "      <td>396.91</td>\n",
              "      <td>4691.84</td>\n",
              "      <td>2021-03-11</td>\n",
              "      <td>2021-04-18</td>\n",
              "      <td>4</td>\n",
              "      <td>Conservador</td>\n",
              "      <td>Alto</td>\n",
              "      <td>2023-04-07</td>\n",
              "      <td>NaN</td>\n",
              "      <td>17926.04</td>\n",
              "    </tr>\n",
              "    <tr>\n",
              "      <th>1</th>\n",
              "      <td>2</td>\n",
              "      <td>386.194.205-42</td>\n",
              "      <td>Sra. Manuela da Mota</td>\n",
              "      <td>Masculino</td>\n",
              "      <td>BA</td>\n",
              "      <td>Feira de Santana</td>\n",
              "      <td>65</td>\n",
              "      <td>1959-09-21</td>\n",
              "      <td>10352.97</td>\n",
              "      <td>B</td>\n",
              "      <td>...</td>\n",
              "      <td>4820.04</td>\n",
              "      <td>17497.79</td>\n",
              "      <td>2017-05-28</td>\n",
              "      <td>2021-06-19</td>\n",
              "      <td>4</td>\n",
              "      <td>Conservador</td>\n",
              "      <td>Baixo</td>\n",
              "      <td>2022-07-09</td>\n",
              "      <td>Gold</td>\n",
              "      <td>12122.45</td>\n",
              "    </tr>\n",
              "    <tr>\n",
              "      <th>2</th>\n",
              "      <td>3</td>\n",
              "      <td>169.284.507-11</td>\n",
              "      <td>Camila Garcia</td>\n",
              "      <td>Masculino</td>\n",
              "      <td>BA</td>\n",
              "      <td>Salvador</td>\n",
              "      <td>50</td>\n",
              "      <td>1974-08-19</td>\n",
              "      <td>26725.19</td>\n",
              "      <td>B</td>\n",
              "      <td>...</td>\n",
              "      <td>625.34</td>\n",
              "      <td>26299.80</td>\n",
              "      <td>2016-11-02</td>\n",
              "      <td>2025-01-26</td>\n",
              "      <td>3</td>\n",
              "      <td>Arrojado</td>\n",
              "      <td>Médio</td>\n",
              "      <td>2023-06-13</td>\n",
              "      <td>NaN</td>\n",
              "      <td>16613.36</td>\n",
              "    </tr>\n",
              "    <tr>\n",
              "      <th>3</th>\n",
              "      <td>4</td>\n",
              "      <td>531.097.268-40</td>\n",
              "      <td>Mateus da Mota</td>\n",
              "      <td>Masculino</td>\n",
              "      <td>RS</td>\n",
              "      <td>Caxias do Sul</td>\n",
              "      <td>69</td>\n",
              "      <td>1956-06-24</td>\n",
              "      <td>10194.89</td>\n",
              "      <td>D</td>\n",
              "      <td>...</td>\n",
              "      <td>966.73</td>\n",
              "      <td>2937.84</td>\n",
              "      <td>2016-02-24</td>\n",
              "      <td>2018-11-15</td>\n",
              "      <td>3</td>\n",
              "      <td>Moderado</td>\n",
              "      <td>Baixo</td>\n",
              "      <td>2024-04-28</td>\n",
              "      <td>Silver</td>\n",
              "      <td>15624.59</td>\n",
              "    </tr>\n",
              "    <tr>\n",
              "      <th>4</th>\n",
              "      <td>5</td>\n",
              "      <td>534.960.127-06</td>\n",
              "      <td>Ravi Garcia</td>\n",
              "      <td>Masculino</td>\n",
              "      <td>MG</td>\n",
              "      <td>Uberlândia</td>\n",
              "      <td>23</td>\n",
              "      <td>2001-12-04</td>\n",
              "      <td>16670.91</td>\n",
              "      <td>C</td>\n",
              "      <td>...</td>\n",
              "      <td>40610.84</td>\n",
              "      <td>64173.37</td>\n",
              "      <td>2019-07-09</td>\n",
              "      <td>2024-06-16</td>\n",
              "      <td>6</td>\n",
              "      <td>Moderado</td>\n",
              "      <td>Alto</td>\n",
              "      <td>2022-12-05</td>\n",
              "      <td>NaN</td>\n",
              "      <td>-9395.05</td>\n",
              "    </tr>\n",
              "  </tbody>\n",
              "</table>\n",
              "<p>5 rows × 25 columns</p>\n",
              "</div>\n",
              "    <div class=\"colab-df-buttons\">\n",
              "\n",
              "  <div class=\"colab-df-container\">\n",
              "    <button class=\"colab-df-convert\" onclick=\"convertToInteractive('df-75077c62-9ce9-4e3e-a554-c076b00a4b44')\"\n",
              "            title=\"Convert this dataframe to an interactive table.\"\n",
              "            style=\"display:none;\">\n",
              "\n",
              "  <svg xmlns=\"http://www.w3.org/2000/svg\" height=\"24px\" viewBox=\"0 -960 960 960\">\n",
              "    <path d=\"M120-120v-720h720v720H120Zm60-500h600v-160H180v160Zm220 220h160v-160H400v160Zm0 220h160v-160H400v160ZM180-400h160v-160H180v160Zm440 0h160v-160H620v160ZM180-180h160v-160H180v160Zm440 0h160v-160H620v160Z\"/>\n",
              "  </svg>\n",
              "    </button>\n",
              "\n",
              "  <style>\n",
              "    .colab-df-container {\n",
              "      display:flex;\n",
              "      gap: 12px;\n",
              "    }\n",
              "\n",
              "    .colab-df-convert {\n",
              "      background-color: #E8F0FE;\n",
              "      border: none;\n",
              "      border-radius: 50%;\n",
              "      cursor: pointer;\n",
              "      display: none;\n",
              "      fill: #1967D2;\n",
              "      height: 32px;\n",
              "      padding: 0 0 0 0;\n",
              "      width: 32px;\n",
              "    }\n",
              "\n",
              "    .colab-df-convert:hover {\n",
              "      background-color: #E2EBFA;\n",
              "      box-shadow: 0px 1px 2px rgba(60, 64, 67, 0.3), 0px 1px 3px 1px rgba(60, 64, 67, 0.15);\n",
              "      fill: #174EA6;\n",
              "    }\n",
              "\n",
              "    .colab-df-buttons div {\n",
              "      margin-bottom: 4px;\n",
              "    }\n",
              "\n",
              "    [theme=dark] .colab-df-convert {\n",
              "      background-color: #3B4455;\n",
              "      fill: #D2E3FC;\n",
              "    }\n",
              "\n",
              "    [theme=dark] .colab-df-convert:hover {\n",
              "      background-color: #434B5C;\n",
              "      box-shadow: 0px 1px 3px 1px rgba(0, 0, 0, 0.15);\n",
              "      filter: drop-shadow(0px 1px 2px rgba(0, 0, 0, 0.3));\n",
              "      fill: #FFFFFF;\n",
              "    }\n",
              "  </style>\n",
              "\n",
              "    <script>\n",
              "      const buttonEl =\n",
              "        document.querySelector('#df-75077c62-9ce9-4e3e-a554-c076b00a4b44 button.colab-df-convert');\n",
              "      buttonEl.style.display =\n",
              "        google.colab.kernel.accessAllowed ? 'block' : 'none';\n",
              "\n",
              "      async function convertToInteractive(key) {\n",
              "        const element = document.querySelector('#df-75077c62-9ce9-4e3e-a554-c076b00a4b44');\n",
              "        const dataTable =\n",
              "          await google.colab.kernel.invokeFunction('convertToInteractive',\n",
              "                                                    [key], {});\n",
              "        if (!dataTable) return;\n",
              "\n",
              "        const docLinkHtml = 'Like what you see? Visit the ' +\n",
              "          '<a target=\"_blank\" href=https://colab.research.google.com/notebooks/data_table.ipynb>data table notebook</a>'\n",
              "          + ' to learn more about interactive tables.';\n",
              "        element.innerHTML = '';\n",
              "        dataTable['output_type'] = 'display_data';\n",
              "        await google.colab.output.renderOutput(dataTable, element);\n",
              "        const docLink = document.createElement('div');\n",
              "        docLink.innerHTML = docLinkHtml;\n",
              "        element.appendChild(docLink);\n",
              "      }\n",
              "    </script>\n",
              "  </div>\n",
              "\n",
              "\n",
              "    <div id=\"df-a5f3ae70-69f0-4118-a115-39657852c37c\">\n",
              "      <button class=\"colab-df-quickchart\" onclick=\"quickchart('df-a5f3ae70-69f0-4118-a115-39657852c37c')\"\n",
              "                title=\"Suggest charts\"\n",
              "                style=\"display:none;\">\n",
              "\n",
              "<svg xmlns=\"http://www.w3.org/2000/svg\" height=\"24px\"viewBox=\"0 0 24 24\"\n",
              "     width=\"24px\">\n",
              "    <g>\n",
              "        <path d=\"M19 3H5c-1.1 0-2 .9-2 2v14c0 1.1.9 2 2 2h14c1.1 0 2-.9 2-2V5c0-1.1-.9-2-2-2zM9 17H7v-7h2v7zm4 0h-2V7h2v10zm4 0h-2v-4h2v4z\"/>\n",
              "    </g>\n",
              "</svg>\n",
              "      </button>\n",
              "\n",
              "<style>\n",
              "  .colab-df-quickchart {\n",
              "      --bg-color: #E8F0FE;\n",
              "      --fill-color: #1967D2;\n",
              "      --hover-bg-color: #E2EBFA;\n",
              "      --hover-fill-color: #174EA6;\n",
              "      --disabled-fill-color: #AAA;\n",
              "      --disabled-bg-color: #DDD;\n",
              "  }\n",
              "\n",
              "  [theme=dark] .colab-df-quickchart {\n",
              "      --bg-color: #3B4455;\n",
              "      --fill-color: #D2E3FC;\n",
              "      --hover-bg-color: #434B5C;\n",
              "      --hover-fill-color: #FFFFFF;\n",
              "      --disabled-bg-color: #3B4455;\n",
              "      --disabled-fill-color: #666;\n",
              "  }\n",
              "\n",
              "  .colab-df-quickchart {\n",
              "    background-color: var(--bg-color);\n",
              "    border: none;\n",
              "    border-radius: 50%;\n",
              "    cursor: pointer;\n",
              "    display: none;\n",
              "    fill: var(--fill-color);\n",
              "    height: 32px;\n",
              "    padding: 0;\n",
              "    width: 32px;\n",
              "  }\n",
              "\n",
              "  .colab-df-quickchart:hover {\n",
              "    background-color: var(--hover-bg-color);\n",
              "    box-shadow: 0 1px 2px rgba(60, 64, 67, 0.3), 0 1px 3px 1px rgba(60, 64, 67, 0.15);\n",
              "    fill: var(--button-hover-fill-color);\n",
              "  }\n",
              "\n",
              "  .colab-df-quickchart-complete:disabled,\n",
              "  .colab-df-quickchart-complete:disabled:hover {\n",
              "    background-color: var(--disabled-bg-color);\n",
              "    fill: var(--disabled-fill-color);\n",
              "    box-shadow: none;\n",
              "  }\n",
              "\n",
              "  .colab-df-spinner {\n",
              "    border: 2px solid var(--fill-color);\n",
              "    border-color: transparent;\n",
              "    border-bottom-color: var(--fill-color);\n",
              "    animation:\n",
              "      spin 1s steps(1) infinite;\n",
              "  }\n",
              "\n",
              "  @keyframes spin {\n",
              "    0% {\n",
              "      border-color: transparent;\n",
              "      border-bottom-color: var(--fill-color);\n",
              "      border-left-color: var(--fill-color);\n",
              "    }\n",
              "    20% {\n",
              "      border-color: transparent;\n",
              "      border-left-color: var(--fill-color);\n",
              "      border-top-color: var(--fill-color);\n",
              "    }\n",
              "    30% {\n",
              "      border-color: transparent;\n",
              "      border-left-color: var(--fill-color);\n",
              "      border-top-color: var(--fill-color);\n",
              "      border-right-color: var(--fill-color);\n",
              "    }\n",
              "    40% {\n",
              "      border-color: transparent;\n",
              "      border-right-color: var(--fill-color);\n",
              "      border-top-color: var(--fill-color);\n",
              "    }\n",
              "    60% {\n",
              "      border-color: transparent;\n",
              "      border-right-color: var(--fill-color);\n",
              "    }\n",
              "    80% {\n",
              "      border-color: transparent;\n",
              "      border-right-color: var(--fill-color);\n",
              "      border-bottom-color: var(--fill-color);\n",
              "    }\n",
              "    90% {\n",
              "      border-color: transparent;\n",
              "      border-bottom-color: var(--fill-color);\n",
              "    }\n",
              "  }\n",
              "</style>\n",
              "\n",
              "      <script>\n",
              "        async function quickchart(key) {\n",
              "          const quickchartButtonEl =\n",
              "            document.querySelector('#' + key + ' button');\n",
              "          quickchartButtonEl.disabled = true;  // To prevent multiple clicks.\n",
              "          quickchartButtonEl.classList.add('colab-df-spinner');\n",
              "          try {\n",
              "            const charts = await google.colab.kernel.invokeFunction(\n",
              "                'suggestCharts', [key], {});\n",
              "          } catch (error) {\n",
              "            console.error('Error during call to suggestCharts:', error);\n",
              "          }\n",
              "          quickchartButtonEl.classList.remove('colab-df-spinner');\n",
              "          quickchartButtonEl.classList.add('colab-df-quickchart-complete');\n",
              "        }\n",
              "        (() => {\n",
              "          let quickchartButtonEl =\n",
              "            document.querySelector('#df-a5f3ae70-69f0-4118-a115-39657852c37c button');\n",
              "          quickchartButtonEl.style.display =\n",
              "            google.colab.kernel.accessAllowed ? 'block' : 'none';\n",
              "        })();\n",
              "      </script>\n",
              "    </div>\n",
              "\n",
              "    </div>\n",
              "  </div>\n"
            ],
            "application/vnd.google.colaboratory.intrinsic+json": {
              "type": "dataframe",
              "variable_name": "df"
            }
          },
          "metadata": {},
          "execution_count": 42
        }
      ],
      "source": [
        "#montando o drive no colab\n",
        "from google.colab import drive\n",
        "drive.mount('/content/drive')\n",
        "\n",
        "#Atribui o caminho do csv a uma variável\n",
        "csv_path = '/content/drive/MyDrive/clientes_investidores_500000.csv'\n",
        "\n",
        "#importa o arquivo para a biblioteca pandas\n",
        "import pandas as pd\n",
        "\n",
        "df = pd.read_csv(csv_path)\n",
        "print(df.shape)\n",
        "df.head(20)"
      ]
    },
    {
      "cell_type": "code",
      "source": [
        "# prompt: contem a quantidade de linhas com tipo de investidor nulo\n",
        "\n",
        "print(df['Classificação do perfil do investidor'].isnull().sum())\n"
      ],
      "metadata": {
        "colab": {
          "base_uri": "https://localhost:8080/"
        },
        "id": "3OqGKQTx2Ef_",
        "outputId": "7ee926a6-576d-46ad-d558-122d8c34f113"
      },
      "execution_count": null,
      "outputs": [
        {
          "output_type": "stream",
          "name": "stdout",
          "text": [
            "332103\n"
          ]
        }
      ]
    },
    {
      "cell_type": "code",
      "source": [
        "# prompt: quantidade de linhas por Classificação do perfil do investidor\n",
        "\n",
        "print(df['Classificação do perfil do investidor'].value_counts())"
      ],
      "metadata": {
        "colab": {
          "base_uri": "https://localhost:8080/"
        },
        "id": "NS-7OzpV36kE",
        "outputId": "1b1324d4-dd43-4a03-9963-b015296f0e30"
      },
      "execution_count": null,
      "outputs": [
        {
          "output_type": "stream",
          "name": "stdout",
          "text": [
            "Classificação do perfil do investidor\n",
            "Gold       118103\n",
            "Silver      45930\n",
            "Black        3790\n",
            "Diamond        74\n",
            "Name: count, dtype: int64\n"
          ]
        }
      ]
    },
    {
      "cell_type": "code",
      "source": [
        "# Importa bibliotecas que serão utilizadas no modelo\n",
        "\n",
        "from sklearn.model_selection import train_test_split\n",
        "from sklearn.ensemble import RandomForestClassifier\n",
        "from sklearn.preprocessing import LabelEncoder\n",
        "from sklearn.metrics import classification_report, confusion_matrix\n",
        "import matplotlib.pyplot as plt\n",
        "import seaborn as sns\n",
        "\n",
        "\n",
        "import warnings\n",
        "warnings.filterwarnings(\"ignore\")\n"
      ],
      "metadata": {
        "id": "N65xjlQUTQT7"
      },
      "execution_count": null,
      "outputs": []
    },
    {
      "cell_type": "code",
      "source": [
        "#Filtra 25% da base para o treinamento\n",
        "df = df[df[\"Classificação do perfil do investidor\"].notnull()]"
      ],
      "metadata": {
        "id": "lfI5aBkETVVQ"
      },
      "execution_count": null,
      "outputs": []
    },
    {
      "cell_type": "code",
      "source": [
        "print(df[\"Classificação do perfil do investidor\"].notnull().sum())"
      ],
      "metadata": {
        "colab": {
          "base_uri": "https://localhost:8080/"
        },
        "id": "bpEJE4YQN_ck",
        "outputId": "067b910b-b080-4542-b885-5720ece0cd27"
      },
      "execution_count": null,
      "outputs": [
        {
          "output_type": "stream",
          "name": "stdout",
          "text": [
            "167897\n"
          ]
        }
      ]
    },
    {
      "cell_type": "code",
      "source": [
        "print(df['Classificação do perfil do investidor'].notnull().value_counts())"
      ],
      "metadata": {
        "colab": {
          "base_uri": "https://localhost:8080/"
        },
        "id": "3xo_PQx7MgkD",
        "outputId": "001c0848-f4db-423e-eef2-46d09f574a1d"
      },
      "execution_count": null,
      "outputs": [
        {
          "output_type": "stream",
          "name": "stdout",
          "text": [
            "Classificação do perfil do investidor\n",
            "True    167897\n",
            "Name: count, dtype: int64\n"
          ]
        }
      ]
    },
    {
      "cell_type": "code",
      "source": [
        "df.isnull().sum()"
      ],
      "metadata": {
        "colab": {
          "base_uri": "https://localhost:8080/",
          "height": 868
        },
        "id": "9OQywIwt5WgL",
        "outputId": "77e120ea-6546-4027-e263-3bc11fe7e1b4"
      },
      "execution_count": null,
      "outputs": [
        {
          "output_type": "execute_result",
          "data": {
            "text/plain": [
              "ID                                       0\n",
              "CPF                                      0\n",
              "NOME                                     0\n",
              "SEXO                                     0\n",
              "UF                                       0\n",
              "CIDADE                                   0\n",
              "idade                                    0\n",
              "Data de nascimento                       0\n",
              "valor da Renda                           0\n",
              "Classe social                            0\n",
              "Estado civil                             0\n",
              "Escolaridade                             0\n",
              "profissão                                0\n",
              "Salario                                  0\n",
              "Valor Total investido Ativo              0\n",
              "Valor Resgate investimento               0\n",
              "Valor Posição investimento               0\n",
              "Data primeiro aporte                     0\n",
              "Data último resgate                      0\n",
              "Quantidade de papéis contratados         0\n",
              "Tipo perfil investidor                   0\n",
              "Suitability                              0\n",
              "Data de cadastro suitability             0\n",
              "Classificação do perfil do investidor    0\n",
              "Limite de Crédito                        0\n",
              "dtype: int64"
            ],
            "text/html": [
              "<div>\n",
              "<style scoped>\n",
              "    .dataframe tbody tr th:only-of-type {\n",
              "        vertical-align: middle;\n",
              "    }\n",
              "\n",
              "    .dataframe tbody tr th {\n",
              "        vertical-align: top;\n",
              "    }\n",
              "\n",
              "    .dataframe thead th {\n",
              "        text-align: right;\n",
              "    }\n",
              "</style>\n",
              "<table border=\"1\" class=\"dataframe\">\n",
              "  <thead>\n",
              "    <tr style=\"text-align: right;\">\n",
              "      <th></th>\n",
              "      <th>0</th>\n",
              "    </tr>\n",
              "  </thead>\n",
              "  <tbody>\n",
              "    <tr>\n",
              "      <th>ID</th>\n",
              "      <td>0</td>\n",
              "    </tr>\n",
              "    <tr>\n",
              "      <th>CPF</th>\n",
              "      <td>0</td>\n",
              "    </tr>\n",
              "    <tr>\n",
              "      <th>NOME</th>\n",
              "      <td>0</td>\n",
              "    </tr>\n",
              "    <tr>\n",
              "      <th>SEXO</th>\n",
              "      <td>0</td>\n",
              "    </tr>\n",
              "    <tr>\n",
              "      <th>UF</th>\n",
              "      <td>0</td>\n",
              "    </tr>\n",
              "    <tr>\n",
              "      <th>CIDADE</th>\n",
              "      <td>0</td>\n",
              "    </tr>\n",
              "    <tr>\n",
              "      <th>idade</th>\n",
              "      <td>0</td>\n",
              "    </tr>\n",
              "    <tr>\n",
              "      <th>Data de nascimento</th>\n",
              "      <td>0</td>\n",
              "    </tr>\n",
              "    <tr>\n",
              "      <th>valor da Renda</th>\n",
              "      <td>0</td>\n",
              "    </tr>\n",
              "    <tr>\n",
              "      <th>Classe social</th>\n",
              "      <td>0</td>\n",
              "    </tr>\n",
              "    <tr>\n",
              "      <th>Estado civil</th>\n",
              "      <td>0</td>\n",
              "    </tr>\n",
              "    <tr>\n",
              "      <th>Escolaridade</th>\n",
              "      <td>0</td>\n",
              "    </tr>\n",
              "    <tr>\n",
              "      <th>profissão</th>\n",
              "      <td>0</td>\n",
              "    </tr>\n",
              "    <tr>\n",
              "      <th>Salario</th>\n",
              "      <td>0</td>\n",
              "    </tr>\n",
              "    <tr>\n",
              "      <th>Valor Total investido Ativo</th>\n",
              "      <td>0</td>\n",
              "    </tr>\n",
              "    <tr>\n",
              "      <th>Valor Resgate investimento</th>\n",
              "      <td>0</td>\n",
              "    </tr>\n",
              "    <tr>\n",
              "      <th>Valor Posição investimento</th>\n",
              "      <td>0</td>\n",
              "    </tr>\n",
              "    <tr>\n",
              "      <th>Data primeiro aporte</th>\n",
              "      <td>0</td>\n",
              "    </tr>\n",
              "    <tr>\n",
              "      <th>Data último resgate</th>\n",
              "      <td>0</td>\n",
              "    </tr>\n",
              "    <tr>\n",
              "      <th>Quantidade de papéis contratados</th>\n",
              "      <td>0</td>\n",
              "    </tr>\n",
              "    <tr>\n",
              "      <th>Tipo perfil investidor</th>\n",
              "      <td>0</td>\n",
              "    </tr>\n",
              "    <tr>\n",
              "      <th>Suitability</th>\n",
              "      <td>0</td>\n",
              "    </tr>\n",
              "    <tr>\n",
              "      <th>Data de cadastro suitability</th>\n",
              "      <td>0</td>\n",
              "    </tr>\n",
              "    <tr>\n",
              "      <th>Classificação do perfil do investidor</th>\n",
              "      <td>0</td>\n",
              "    </tr>\n",
              "    <tr>\n",
              "      <th>Limite de Crédito</th>\n",
              "      <td>0</td>\n",
              "    </tr>\n",
              "  </tbody>\n",
              "</table>\n",
              "</div><br><label><b>dtype:</b> int64</label>"
            ]
          },
          "metadata": {},
          "execution_count": 47
        }
      ]
    },
    {
      "cell_type": "code",
      "source": [
        "\n",
        "#Seleciona variávei\n",
        "Variaveis = [\n",
        "    \"idade\", \"valor da Renda\", \"Salario\", \"Valor Total investido Ativo\",\n",
        "    \"Valor Resgate investimento\", \"Valor Posição investimento\",\n",
        "    \"Quantidade de papéis contratados\", \"Suitability\", \"Limite de Crédito\",\n",
        "    \"Classe social\", \"Estado civil\", \"Escolaridade\", \"profissão\", \"SEXO\", \"UF\"]\n",
        "\n",
        "print(Variaveis)\n",
        "print(df.columns.tolist())"
      ],
      "metadata": {
        "colab": {
          "base_uri": "https://localhost:8080/"
        },
        "id": "QGDxezNbU-Y-",
        "outputId": "d2329d01-a9bb-4804-eeb7-828698ad4836"
      },
      "execution_count": null,
      "outputs": [
        {
          "output_type": "stream",
          "name": "stdout",
          "text": [
            "['idade', 'valor da Renda', 'Salario', 'Valor Total investido Ativo', 'Valor Resgate investimento', 'Valor Posição investimento', 'Quantidade de papéis contratados', 'Suitability', 'Limite de Crédito', 'Classe social', 'Estado civil', 'Escolaridade', 'profissão', 'SEXO', 'UF']\n",
            "['ID', 'CPF', 'NOME', 'SEXO', 'UF', 'CIDADE', 'idade', 'Data de nascimento', 'valor da Renda', 'Classe social', 'Estado civil', 'Escolaridade', 'profissão', 'Salario', 'Valor Total investido Ativo', 'Valor Resgate investimento', 'Valor Posição investimento', 'Data primeiro aporte', 'Data último resgate', 'Quantidade de papéis contratados', 'Tipo perfil investidor', 'Suitability', 'Data de cadastro suitability', 'Classificação do perfil do investidor', 'Limite de Crédito']\n"
          ]
        }
      ]
    },
    {
      "cell_type": "code",
      "source": [
        "# 4. Separar X e y\n",
        "X = df[Variaveis]\n",
        "y = df[\"Classificação do perfil do investidor\"]\n",
        "\n",
        "# 5. Codificar variáveis categóricas\n",
        "from sklearn.preprocessing import LabelEncoder # Import LabelEncoder\n",
        "for col in X.select_dtypes(include=\"object\").columns:\n",
        "    le = LabelEncoder()\n",
        "    X[col] = le.fit_transform(X[col])\n",
        "\n",
        "# 6. Dividir em treino e teste\n",
        "X_train, X_test, y_train, y_test = train_test_split(\n",
        "    X, y, test_size=0.35, stratify=y, random_state=42\n",
        ")"
      ],
      "metadata": {
        "id": "rZ4hU2axVDC4"
      },
      "execution_count": null,
      "outputs": []
    },
    {
      "cell_type": "code",
      "source": [
        "\n",
        "print(y_test.value_counts())"
      ],
      "metadata": {
        "colab": {
          "base_uri": "https://localhost:8080/"
        },
        "id": "uehWhyGZN_3y",
        "outputId": "13717284-13cd-4501-c026-71c33f8bd014"
      },
      "execution_count": null,
      "outputs": [
        {
          "output_type": "stream",
          "name": "stdout",
          "text": [
            "Classificação do perfil do investidor\n",
            "Gold       41336\n",
            "Silver     16076\n",
            "Black       1326\n",
            "Diamond       26\n",
            "Name: count, dtype: int64\n"
          ]
        }
      ]
    },
    {
      "cell_type": "code",
      "source": [
        "# 7. Treinar modelo\n",
        "clf = RandomForestClassifier(n_estimators=1, random_state=42)\n",
        "clf.fit(X_train, y_train)\n",
        "\n",
        "# 8. Avaliar\n",
        "y_pred = clf.predict(X_test)\n",
        "print(\"Classification Report:\")\n",
        "print(classification_report(y_test, y_pred))"
      ],
      "metadata": {
        "colab": {
          "base_uri": "https://localhost:8080/"
        },
        "id": "JTfhS2wSXrhr",
        "outputId": "86773971-8f00-4ebc-d61e-8a7ba335cc38"
      },
      "execution_count": null,
      "outputs": [
        {
          "output_type": "stream",
          "name": "stdout",
          "text": [
            "Classification Report:\n",
            "              precision    recall  f1-score   support\n",
            "\n",
            "       Black       0.99      0.99      0.99      1326\n",
            "     Diamond       1.00      0.96      0.98        26\n",
            "        Gold       1.00      1.00      1.00     41336\n",
            "      Silver       1.00      1.00      1.00     16076\n",
            "\n",
            "    accuracy                           1.00     58764\n",
            "   macro avg       1.00      0.99      0.99     58764\n",
            "weighted avg       1.00      1.00      1.00     58764\n",
            "\n"
          ]
        }
      ]
    },
    {
      "cell_type": "code",
      "source": [
        "# 9. Matriz de confusão\n",
        "plt.figure(figsize=(8,6))\n",
        "sns.heatmap(confusion_matrix(y_test, y_pred), annot=True, fmt='d', cmap='Blues',\n",
        "            xticklabels=clf.classes_, yticklabels=clf.classes_)\n",
        "plt.title(\"Matriz de Confusão\")\n",
        "plt.xlabel(\"Previsto\")\n",
        "plt.ylabel(\"Real\")\n",
        "plt.show()"
      ],
      "metadata": {
        "colab": {
          "base_uri": "https://localhost:8080/",
          "height": 564
        },
        "id": "JJkQNND7X0X9",
        "outputId": "f124c9cf-c3fd-4a01-a07f-4363db619fbe"
      },
      "execution_count": null,
      "outputs": [
        {
          "output_type": "display_data",
          "data": {
            "text/plain": [
              "<Figure size 800x600 with 2 Axes>"
            ],
            "image/png": "[encoded data removed]"
          },
          "metadata": {}
        }
      ]
    },
    {
      "cell_type": "code",
      "source": [
        "# 10. Importância das variáveis\n",
        "importances = pd.Series(clf.feature_importances_, index=X.columns)\n",
        "importances.sort_values(ascending=True).plot(kind='barh', figsize=(10,6), title=\"Importância das Variáveis\")\n",
        "plt.show()"
      ],
      "metadata": {
        "colab": {
          "base_uri": "https://localhost:8080/",
          "height": 545
        },
        "id": "gxEED3g7X83E",
        "outputId": "55d61536-6335-4960-9980-d04ca8641c7c"
      },
      "execution_count": null,
      "outputs": [
        {
          "output_type": "display_data",
          "data": {
            "text/plain": [
              "<Figure size 1000x600 with 1 Axes>"
            ],
            "image/png": "[encoded data removed]"
          },
          "metadata": {}
        }
      ]
    }
  ]
}
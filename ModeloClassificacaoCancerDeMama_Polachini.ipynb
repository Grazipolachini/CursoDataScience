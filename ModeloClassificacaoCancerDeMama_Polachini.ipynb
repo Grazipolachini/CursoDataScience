{
  "nbformat": 4,
  "nbformat_minor": 0,
  "metadata": {
    "colab": {
      "provenance": [],
      "authorship_tag": "ABX9TyPmdQ6Jt8i5vc0K/JLTiRj4",
      "include_colab_link": true
    },
    "kernelspec": {
      "name": "python3",
      "display_name": "Python 3"
    },
    "language_info": {
      "name": "python"
    }
  },
  "cells": [
    {
      "cell_type": "markdown",
      "metadata": {
        "id": "view-in-github",
        "colab_type": "text"
      },
      "source": [
        "<a href=\"https://colab.research.google.com/github/Grazipolachini/CursoDataScience/blob/main/ModeloClassificacaoCancerDeMama_Polachini.ipynb\" target=\"_parent\"><img src=\"https://colab.research.google.com/assets/colab-badge.svg\" alt=\"Open In Colab\"/></a>"
      ]
    },
    {
      "cell_type": "markdown",
      "source": [
        "## O Dataset utilizado nesse treinamento, contém informações referentes a câncer de mama. O Objetivo do trabalho, é prever com base nos dados de dimensão, textura do câncer, por exemplo, se o tumor é maligno ou benigno."
      ],
      "metadata": {
        "id": "gJpnM-9_igpZ"
      }
    },
    {
      "cell_type": "code",
      "execution_count": 31,
      "metadata": {
        "id": "LnOA7a7UWYim"
      },
      "outputs": [],
      "source": [
        "import pandas as pd\n",
        "from sklearn.model_selection import train_test_split\n",
        "from sklearn.ensemble import RandomForestClassifier\n",
        "from sklearn.metrics import accuracy_score, confusion_matrix, classification_report\n",
        "from sklearn.preprocessing import LabelEncoder\n",
        "from sklearn.model_selection import cross_val_score\n",
        "import seaborn as sns\n",
        "import matplotlib.pyplot as plt\n",
        "\n",
        "url = \"https://archive.ics.uci.edu/ml/machine-learning-databases/breast-cancer-wisconsin/wdbc.data\"\n"
      ]
    },
    {
      "cell_type": "code",
      "source": [
        "# Inclui nome para as colunas no dataset\n",
        "colunas = [\n",
        "    \"ID\", \"Diagnostico\",\n",
        "    \"Raio_Medio\", \"Textura_Media\", \"Perimetro_Medio\", \"Area_Media\", \"Suavidade_Media\",\n",
        "    \"Compacidade_Media\", \"Concavidade_Media\", \"Pontos_Concavos_Medios\", \"Simetria_Media\", \"Dimensao_Fractal_Media\",\n",
        "    \"Raio_SE\", \"Textura_SE\", \"Perimetro_SE\", \"Area_SE\", \"Suavidade_SE\",\n",
        "    \"Compacidade_SE\", \"Concavidade_SE\", \"Pontos_Concavos_SE\", \"Simetria_SE\", \"Dimensao_Fractal_SE\",\n",
        "    \"Raio_Pior\", \"Textura_Pior\", \"Perimetro_Pior\", \"Area_Pior\", \"Suavidade_Pior\",\n",
        "    \"Compacidade_Pior\", \"Concavidade_Pior\", \"Pontos_Concavos_Piores\", \"Simetria_Pior\", \"Dimensao_Fractal_Pior\"\n",
        "]\n"
      ],
      "metadata": {
        "id": "4l4SLaUBdMyl"
      },
      "execution_count": 32,
      "outputs": []
    },
    {
      "cell_type": "code",
      "source": [
        "df = pd.read_csv(url, header=None, names=colunas)\n",
        "df.head()"
      ],
      "metadata": {
        "colab": {
          "base_uri": "https://localhost:8080/",
          "height": 256
        },
        "id": "RvUXtdM4dOqI",
        "outputId": "90b56a2d-f079-49bd-a542-8bb788638daf"
      },
      "execution_count": 35,
      "outputs": [
        {
          "output_type": "execute_result",
          "data": {
            "text/plain": [
              "         ID Diagnostico  Raio_Medio  Textura_Media  Perimetro_Medio  \\\n",
              "0    842302           M       17.99          10.38           122.80   \n",
              "1    842517           M       20.57          17.77           132.90   \n",
              "2  84300903           M       19.69          21.25           130.00   \n",
              "3  84348301           M       11.42          20.38            77.58   \n",
              "4  84358402           M       20.29          14.34           135.10   \n",
              "\n",
              "   Area_Media  Suavidade_Media  Compacidade_Media  Concavidade_Media  \\\n",
              "0      1001.0          0.11840            0.27760             0.3001   \n",
              "1      1326.0          0.08474            0.07864             0.0869   \n",
              "2      1203.0          0.10960            0.15990             0.1974   \n",
              "3       386.1          0.14250            0.28390             0.2414   \n",
              "4      1297.0          0.10030            0.13280             0.1980   \n",
              "\n",
              "   Pontos_Concavos_Medios  ...  Raio_Pior  Textura_Pior  Perimetro_Pior  \\\n",
              "0                 0.14710  ...      25.38         17.33          184.60   \n",
              "1                 0.07017  ...      24.99         23.41          158.80   \n",
              "2                 0.12790  ...      23.57         25.53          152.50   \n",
              "3                 0.10520  ...      14.91         26.50           98.87   \n",
              "4                 0.10430  ...      22.54         16.67          152.20   \n",
              "\n",
              "   Area_Pior  Suavidade_Pior  Compacidade_Pior  Concavidade_Pior  \\\n",
              "0     2019.0          0.1622            0.6656            0.7119   \n",
              "1     1956.0          0.1238            0.1866            0.2416   \n",
              "2     1709.0          0.1444            0.4245            0.4504   \n",
              "3      567.7          0.2098            0.8663            0.6869   \n",
              "4     1575.0          0.1374            0.2050            0.4000   \n",
              "\n",
              "   Pontos_Concavos_Piores  Simetria_Pior  Dimensao_Fractal_Pior  \n",
              "0                  0.2654         0.4601                0.11890  \n",
              "1                  0.1860         0.2750                0.08902  \n",
              "2                  0.2430         0.3613                0.08758  \n",
              "3                  0.2575         0.6638                0.17300  \n",
              "4                  0.1625         0.2364                0.07678  \n",
              "\n",
              "[5 rows x 32 columns]"
            ],
            "text/html": [
              "\n",
              "  <div id=\"df-e68cdebe-762b-44d6-a755-ae94348a1228\" class=\"colab-df-container\">\n",
              "    <div>\n",
              "<style scoped>\n",
              "    .dataframe tbody tr th:only-of-type {\n",
              "        vertical-align: middle;\n",
              "    }\n",
              "\n",
              "    .dataframe tbody tr th {\n",
              "        vertical-align: top;\n",
              "    }\n",
              "\n",
              "    .dataframe thead th {\n",
              "        text-align: right;\n",
              "    }\n",
              "</style>\n",
              "<table border=\"1\" class=\"dataframe\">\n",
              "  <thead>\n",
              "    <tr style=\"text-align: right;\">\n",
              "      <th></th>\n",
              "      <th>ID</th>\n",
              "      <th>Diagnostico</th>\n",
              "      <th>Raio_Medio</th>\n",
              "      <th>Textura_Media</th>\n",
              "      <th>Perimetro_Medio</th>\n",
              "      <th>Area_Media</th>\n",
              "      <th>Suavidade_Media</th>\n",
              "      <th>Compacidade_Media</th>\n",
              "      <th>Concavidade_Media</th>\n",
              "      <th>Pontos_Concavos_Medios</th>\n",
              "      <th>...</th>\n",
              "      <th>Raio_Pior</th>\n",
              "      <th>Textura_Pior</th>\n",
              "      <th>Perimetro_Pior</th>\n",
              "      <th>Area_Pior</th>\n",
              "      <th>Suavidade_Pior</th>\n",
              "      <th>Compacidade_Pior</th>\n",
              "      <th>Concavidade_Pior</th>\n",
              "      <th>Pontos_Concavos_Piores</th>\n",
              "      <th>Simetria_Pior</th>\n",
              "      <th>Dimensao_Fractal_Pior</th>\n",
              "    </tr>\n",
              "  </thead>\n",
              "  <tbody>\n",
              "    <tr>\n",
              "      <th>0</th>\n",
              "      <td>842302</td>\n",
              "      <td>M</td>\n",
              "      <td>17.99</td>\n",
              "      <td>10.38</td>\n",
              "      <td>122.80</td>\n",
              "      <td>1001.0</td>\n",
              "      <td>0.11840</td>\n",
              "      <td>0.27760</td>\n",
              "      <td>0.3001</td>\n",
              "      <td>0.14710</td>\n",
              "      <td>...</td>\n",
              "      <td>25.38</td>\n",
              "      <td>17.33</td>\n",
              "      <td>184.60</td>\n",
              "      <td>2019.0</td>\n",
              "      <td>0.1622</td>\n",
              "      <td>0.6656</td>\n",
              "      <td>0.7119</td>\n",
              "      <td>0.2654</td>\n",
              "      <td>0.4601</td>\n",
              "      <td>0.11890</td>\n",
              "    </tr>\n",
              "    <tr>\n",
              "      <th>1</th>\n",
              "      <td>842517</td>\n",
              "      <td>M</td>\n",
              "      <td>20.57</td>\n",
              "      <td>17.77</td>\n",
              "      <td>132.90</td>\n",
              "      <td>1326.0</td>\n",
              "      <td>0.08474</td>\n",
              "      <td>0.07864</td>\n",
              "      <td>0.0869</td>\n",
              "      <td>0.07017</td>\n",
              "      <td>...</td>\n",
              "      <td>24.99</td>\n",
              "      <td>23.41</td>\n",
              "      <td>158.80</td>\n",
              "      <td>1956.0</td>\n",
              "      <td>0.1238</td>\n",
              "      <td>0.1866</td>\n",
              "      <td>0.2416</td>\n",
              "      <td>0.1860</td>\n",
              "      <td>0.2750</td>\n",
              "      <td>0.08902</td>\n",
              "    </tr>\n",
              "    <tr>\n",
              "      <th>2</th>\n",
              "      <td>84300903</td>\n",
              "      <td>M</td>\n",
              "      <td>19.69</td>\n",
              "      <td>21.25</td>\n",
              "      <td>130.00</td>\n",
              "      <td>1203.0</td>\n",
              "      <td>0.10960</td>\n",
              "      <td>0.15990</td>\n",
              "      <td>0.1974</td>\n",
              "      <td>0.12790</td>\n",
              "      <td>...</td>\n",
              "      <td>23.57</td>\n",
              "      <td>25.53</td>\n",
              "      <td>152.50</td>\n",
              "      <td>1709.0</td>\n",
              "      <td>0.1444</td>\n",
              "      <td>0.4245</td>\n",
              "      <td>0.4504</td>\n",
              "      <td>0.2430</td>\n",
              "      <td>0.3613</td>\n",
              "      <td>0.08758</td>\n",
              "    </tr>\n",
              "    <tr>\n",
              "      <th>3</th>\n",
              "      <td>84348301</td>\n",
              "      <td>M</td>\n",
              "      <td>11.42</td>\n",
              "      <td>20.38</td>\n",
              "      <td>77.58</td>\n",
              "      <td>386.1</td>\n",
              "      <td>0.14250</td>\n",
              "      <td>0.28390</td>\n",
              "      <td>0.2414</td>\n",
              "      <td>0.10520</td>\n",
              "      <td>...</td>\n",
              "      <td>14.91</td>\n",
              "      <td>26.50</td>\n",
              "      <td>98.87</td>\n",
              "      <td>567.7</td>\n",
              "      <td>0.2098</td>\n",
              "      <td>0.8663</td>\n",
              "      <td>0.6869</td>\n",
              "      <td>0.2575</td>\n",
              "      <td>0.6638</td>\n",
              "      <td>0.17300</td>\n",
              "    </tr>\n",
              "    <tr>\n",
              "      <th>4</th>\n",
              "      <td>84358402</td>\n",
              "      <td>M</td>\n",
              "      <td>20.29</td>\n",
              "      <td>14.34</td>\n",
              "      <td>135.10</td>\n",
              "      <td>1297.0</td>\n",
              "      <td>0.10030</td>\n",
              "      <td>0.13280</td>\n",
              "      <td>0.1980</td>\n",
              "      <td>0.10430</td>\n",
              "      <td>...</td>\n",
              "      <td>22.54</td>\n",
              "      <td>16.67</td>\n",
              "      <td>152.20</td>\n",
              "      <td>1575.0</td>\n",
              "      <td>0.1374</td>\n",
              "      <td>0.2050</td>\n",
              "      <td>0.4000</td>\n",
              "      <td>0.1625</td>\n",
              "      <td>0.2364</td>\n",
              "      <td>0.07678</td>\n",
              "    </tr>\n",
              "  </tbody>\n",
              "</table>\n",
              "<p>5 rows × 32 columns</p>\n",
              "</div>\n",
              "    <div class=\"colab-df-buttons\">\n",
              "\n",
              "  <div class=\"colab-df-container\">\n",
              "    <button class=\"colab-df-convert\" onclick=\"convertToInteractive('df-e68cdebe-762b-44d6-a755-ae94348a1228')\"\n",
              "            title=\"Convert this dataframe to an interactive table.\"\n",
              "            style=\"display:none;\">\n",
              "\n",
              "  <svg xmlns=\"http://www.w3.org/2000/svg\" height=\"24px\" viewBox=\"0 -960 960 960\">\n",
              "    <path d=\"M120-120v-720h720v720H120Zm60-500h600v-160H180v160Zm220 220h160v-160H400v160Zm0 220h160v-160H400v160ZM180-400h160v-160H180v160Zm440 0h160v-160H620v160ZM180-180h160v-160H180v160Zm440 0h160v-160H620v160Z\"/>\n",
              "  </svg>\n",
              "    </button>\n",
              "\n",
              "  <style>\n",
              "    .colab-df-container {\n",
              "      display:flex;\n",
              "      gap: 12px;\n",
              "    }\n",
              "\n",
              "    .colab-df-convert {\n",
              "      background-color: #E8F0FE;\n",
              "      border: none;\n",
              "      border-radius: 50%;\n",
              "      cursor: pointer;\n",
              "      display: none;\n",
              "      fill: #1967D2;\n",
              "      height: 32px;\n",
              "      padding: 0 0 0 0;\n",
              "      width: 32px;\n",
              "    }\n",
              "\n",
              "    .colab-df-convert:hover {\n",
              "      background-color: #E2EBFA;\n",
              "      box-shadow: 0px 1px 2px rgba(60, 64, 67, 0.3), 0px 1px 3px 1px rgba(60, 64, 67, 0.15);\n",
              "      fill: #174EA6;\n",
              "    }\n",
              "\n",
              "    .colab-df-buttons div {\n",
              "      margin-bottom: 4px;\n",
              "    }\n",
              "\n",
              "    [theme=dark] .colab-df-convert {\n",
              "      background-color: #3B4455;\n",
              "      fill: #D2E3FC;\n",
              "    }\n",
              "\n",
              "    [theme=dark] .colab-df-convert:hover {\n",
              "      background-color: #434B5C;\n",
              "      box-shadow: 0px 1px 3px 1px rgba(0, 0, 0, 0.15);\n",
              "      filter: drop-shadow(0px 1px 2px rgba(0, 0, 0, 0.3));\n",
              "      fill: #FFFFFF;\n",
              "    }\n",
              "  </style>\n",
              "\n",
              "    <script>\n",
              "      const buttonEl =\n",
              "        document.querySelector('#df-e68cdebe-762b-44d6-a755-ae94348a1228 button.colab-df-convert');\n",
              "      buttonEl.style.display =\n",
              "        google.colab.kernel.accessAllowed ? 'block' : 'none';\n",
              "\n",
              "      async function convertToInteractive(key) {\n",
              "        const element = document.querySelector('#df-e68cdebe-762b-44d6-a755-ae94348a1228');\n",
              "        const dataTable =\n",
              "          await google.colab.kernel.invokeFunction('convertToInteractive',\n",
              "                                                    [key], {});\n",
              "        if (!dataTable) return;\n",
              "\n",
              "        const docLinkHtml = 'Like what you see? Visit the ' +\n",
              "          '<a target=\"_blank\" href=https://colab.research.google.com/notebooks/data_table.ipynb>data table notebook</a>'\n",
              "          + ' to learn more about interactive tables.';\n",
              "        element.innerHTML = '';\n",
              "        dataTable['output_type'] = 'display_data';\n",
              "        await google.colab.output.renderOutput(dataTable, element);\n",
              "        const docLink = document.createElement('div');\n",
              "        docLink.innerHTML = docLinkHtml;\n",
              "        element.appendChild(docLink);\n",
              "      }\n",
              "    </script>\n",
              "  </div>\n",
              "\n",
              "\n",
              "    <div id=\"df-e3c0c814-14e5-4838-944a-eb480b81c966\">\n",
              "      <button class=\"colab-df-quickchart\" onclick=\"quickchart('df-e3c0c814-14e5-4838-944a-eb480b81c966')\"\n",
              "                title=\"Suggest charts\"\n",
              "                style=\"display:none;\">\n",
              "\n",
              "<svg xmlns=\"http://www.w3.org/2000/svg\" height=\"24px\"viewBox=\"0 0 24 24\"\n",
              "     width=\"24px\">\n",
              "    <g>\n",
              "        <path d=\"M19 3H5c-1.1 0-2 .9-2 2v14c0 1.1.9 2 2 2h14c1.1 0 2-.9 2-2V5c0-1.1-.9-2-2-2zM9 17H7v-7h2v7zm4 0h-2V7h2v10zm4 0h-2v-4h2v4z\"/>\n",
              "    </g>\n",
              "</svg>\n",
              "      </button>\n",
              "\n",
              "<style>\n",
              "  .colab-df-quickchart {\n",
              "      --bg-color: #E8F0FE;\n",
              "      --fill-color: #1967D2;\n",
              "      --hover-bg-color: #E2EBFA;\n",
              "      --hover-fill-color: #174EA6;\n",
              "      --disabled-fill-color: #AAA;\n",
              "      --disabled-bg-color: #DDD;\n",
              "  }\n",
              "\n",
              "  [theme=dark] .colab-df-quickchart {\n",
              "      --bg-color: #3B4455;\n",
              "      --fill-color: #D2E3FC;\n",
              "      --hover-bg-color: #434B5C;\n",
              "      --hover-fill-color: #FFFFFF;\n",
              "      --disabled-bg-color: #3B4455;\n",
              "      --disabled-fill-color: #666;\n",
              "  }\n",
              "\n",
              "  .colab-df-quickchart {\n",
              "    background-color: var(--bg-color);\n",
              "    border: none;\n",
              "    border-radius: 50%;\n",
              "    cursor: pointer;\n",
              "    display: none;\n",
              "    fill: var(--fill-color);\n",
              "    height: 32px;\n",
              "    padding: 0;\n",
              "    width: 32px;\n",
              "  }\n",
              "\n",
              "  .colab-df-quickchart:hover {\n",
              "    background-color: var(--hover-bg-color);\n",
              "    box-shadow: 0 1px 2px rgba(60, 64, 67, 0.3), 0 1px 3px 1px rgba(60, 64, 67, 0.15);\n",
              "    fill: var(--button-hover-fill-color);\n",
              "  }\n",
              "\n",
              "  .colab-df-quickchart-complete:disabled,\n",
              "  .colab-df-quickchart-complete:disabled:hover {\n",
              "    background-color: var(--disabled-bg-color);\n",
              "    fill: var(--disabled-fill-color);\n",
              "    box-shadow: none;\n",
              "  }\n",
              "\n",
              "  .colab-df-spinner {\n",
              "    border: 2px solid var(--fill-color);\n",
              "    border-color: transparent;\n",
              "    border-bottom-color: var(--fill-color);\n",
              "    animation:\n",
              "      spin 1s steps(1) infinite;\n",
              "  }\n",
              "\n",
              "  @keyframes spin {\n",
              "    0% {\n",
              "      border-color: transparent;\n",
              "      border-bottom-color: var(--fill-color);\n",
              "      border-left-color: var(--fill-color);\n",
              "    }\n",
              "    20% {\n",
              "      border-color: transparent;\n",
              "      border-left-color: var(--fill-color);\n",
              "      border-top-color: var(--fill-color);\n",
              "    }\n",
              "    30% {\n",
              "      border-color: transparent;\n",
              "      border-left-color: var(--fill-color);\n",
              "      border-top-color: var(--fill-color);\n",
              "      border-right-color: var(--fill-color);\n",
              "    }\n",
              "    40% {\n",
              "      border-color: transparent;\n",
              "      border-right-color: var(--fill-color);\n",
              "      border-top-color: var(--fill-color);\n",
              "    }\n",
              "    60% {\n",
              "      border-color: transparent;\n",
              "      border-right-color: var(--fill-color);\n",
              "    }\n",
              "    80% {\n",
              "      border-color: transparent;\n",
              "      border-right-color: var(--fill-color);\n",
              "      border-bottom-color: var(--fill-color);\n",
              "    }\n",
              "    90% {\n",
              "      border-color: transparent;\n",
              "      border-bottom-color: var(--fill-color);\n",
              "    }\n",
              "  }\n",
              "</style>\n",
              "\n",
              "      <script>\n",
              "        async function quickchart(key) {\n",
              "          const quickchartButtonEl =\n",
              "            document.querySelector('#' + key + ' button');\n",
              "          quickchartButtonEl.disabled = true;  // To prevent multiple clicks.\n",
              "          quickchartButtonEl.classList.add('colab-df-spinner');\n",
              "          try {\n",
              "            const charts = await google.colab.kernel.invokeFunction(\n",
              "                'suggestCharts', [key], {});\n",
              "          } catch (error) {\n",
              "            console.error('Error during call to suggestCharts:', error);\n",
              "          }\n",
              "          quickchartButtonEl.classList.remove('colab-df-spinner');\n",
              "          quickchartButtonEl.classList.add('colab-df-quickchart-complete');\n",
              "        }\n",
              "        (() => {\n",
              "          let quickchartButtonEl =\n",
              "            document.querySelector('#df-e3c0c814-14e5-4838-944a-eb480b81c966 button');\n",
              "          quickchartButtonEl.style.display =\n",
              "            google.colab.kernel.accessAllowed ? 'block' : 'none';\n",
              "        })();\n",
              "      </script>\n",
              "    </div>\n",
              "\n",
              "    </div>\n",
              "  </div>\n"
            ],
            "application/vnd.google.colaboratory.intrinsic+json": {
              "type": "dataframe",
              "variable_name": "df"
            }
          },
          "metadata": {},
          "execution_count": 35
        }
      ]
    },
    {
      "cell_type": "code",
      "source": [
        "#validações\n",
        "\n",
        "print(df.shape[0])\n",
        "print(df.isnull().sum())\n",
        "print(df['Diagnostico'].value_counts())"
      ],
      "metadata": {
        "colab": {
          "base_uri": "https://localhost:8080/"
        },
        "id": "LEUN6mTNeulb",
        "outputId": "989af943-ce07-44bd-d682-713a709d9d2a"
      },
      "execution_count": 36,
      "outputs": [
        {
          "output_type": "stream",
          "name": "stdout",
          "text": [
            "569\n",
            "ID                        0\n",
            "Diagnostico               0\n",
            "Raio_Medio                0\n",
            "Textura_Media             0\n",
            "Perimetro_Medio           0\n",
            "Area_Media                0\n",
            "Suavidade_Media           0\n",
            "Compacidade_Media         0\n",
            "Concavidade_Media         0\n",
            "Pontos_Concavos_Medios    0\n",
            "Simetria_Media            0\n",
            "Dimensao_Fractal_Media    0\n",
            "Raio_SE                   0\n",
            "Textura_SE                0\n",
            "Perimetro_SE              0\n",
            "Area_SE                   0\n",
            "Suavidade_SE              0\n",
            "Compacidade_SE            0\n",
            "Concavidade_SE            0\n",
            "Pontos_Concavos_SE        0\n",
            "Simetria_SE               0\n",
            "Dimensao_Fractal_SE       0\n",
            "Raio_Pior                 0\n",
            "Textura_Pior              0\n",
            "Perimetro_Pior            0\n",
            "Area_Pior                 0\n",
            "Suavidade_Pior            0\n",
            "Compacidade_Pior          0\n",
            "Concavidade_Pior          0\n",
            "Pontos_Concavos_Piores    0\n",
            "Simetria_Pior             0\n",
            "Dimensao_Fractal_Pior     0\n",
            "dtype: int64\n",
            "Diagnostico\n",
            "B    357\n",
            "M    212\n",
            "Name: count, dtype: int64\n"
          ]
        }
      ]
    },
    {
      "cell_type": "code",
      "source": [
        "#Remove coluna ID\n",
        "df = df.drop(\"ID\", axis=1)\n",
        "\n",
        "#Transforma valores Maligno e Benigno em binário\n",
        "df['Diagnostico'] = df['Diagnostico'].map({'M': 1, 'B': 0})"
      ],
      "metadata": {
        "id": "fuLEbckBdf_B"
      },
      "execution_count": 37,
      "outputs": []
    },
    {
      "cell_type": "code",
      "source": [
        "#Separa varaveis\n",
        "X = df.drop(\"Diagnostico\", axis=1)\n",
        "y = df[\"Diagnostico\"]"
      ],
      "metadata": {
        "id": "NydaWIScdwBz"
      },
      "execution_count": 38,
      "outputs": []
    },
    {
      "cell_type": "code",
      "source": [
        "#Divide variáveis em teste e treino\n",
        "X_treino, X_teste, y_treino, y_teste = train_test_split(X, y, test_size= 0.2, random_state=42, stratify=y)\n"
      ],
      "metadata": {
        "id": "HWTNYizJefHT"
      },
      "execution_count": 77,
      "outputs": []
    },
    {
      "cell_type": "code",
      "source": [
        "#treinamento\n",
        "modelo = RandomForestClassifier(\n",
        "    n_estimators=2000,\n",
        "    #max_depth=10,\n",
        "    #min_samples_split=5,\n",
        "    #min_samples_leaf=2,\n",
        "    class_weight='balanced',\n",
        "    random_state=42)\n",
        "modelo.fit(X_treino, y_treino)\n",
        "\n",
        "#previsao\n",
        "y_pred = modelo.predict(X_teste)"
      ],
      "metadata": {
        "id": "Ccn8edYketJN"
      },
      "execution_count": 123,
      "outputs": []
    },
    {
      "cell_type": "code",
      "source": [
        "print(\"Acurácia:\", accuracy_score(y_teste, y_pred))\n",
        "print(\"\\nMatriz de Confusão:\")\n",
        "print(confusion_matrix(y_teste, y_pred))\n",
        "print(\"\\nRelatório de Classificação:\")\n",
        "print(classification_report(y_teste, y_pred, target_names=[\"Benigno\", \"Maligno\"]))\n"
      ],
      "metadata": {
        "colab": {
          "base_uri": "https://localhost:8080/"
        },
        "id": "za4vemxhfr0Z",
        "outputId": "7b72657a-e5e1-4379-a91f-372e1b53cc7c"
      },
      "execution_count": 124,
      "outputs": [
        {
          "output_type": "stream",
          "name": "stdout",
          "text": [
            "Acurácia: 0.9736842105263158\n",
            "\n",
            "Matriz de Confusão:\n",
            "[[72  0]\n",
            " [ 3 39]]\n",
            "\n",
            "Relatório de Classificação:\n",
            "              precision    recall  f1-score   support\n",
            "\n",
            "     Benigno       0.96      1.00      0.98        72\n",
            "     Maligno       1.00      0.93      0.96        42\n",
            "\n",
            "    accuracy                           0.97       114\n",
            "   macro avg       0.98      0.96      0.97       114\n",
            "weighted avg       0.97      0.97      0.97       114\n",
            "\n"
          ]
        }
      ]
    },
    {
      "cell_type": "code",
      "source": [
        "#cross validation\n",
        "scores = cross_val_score(modelo, X, y, cv=5)\n",
        "print(\"Acurácia média:\", scores.mean())"
      ],
      "metadata": {
        "colab": {
          "base_uri": "https://localhost:8080/"
        },
        "id": "_PJtf-XdlBLs",
        "outputId": "b0cc4bd5-8a53-44aa-ea05-12666cd0f058"
      },
      "execution_count": 122,
      "outputs": [
        {
          "output_type": "stream",
          "name": "stdout",
          "text": [
            "Acurácia média: 0.9631113181183046\n"
          ]
        }
      ]
    },
    {
      "cell_type": "code",
      "source": [
        "# Matriz de confusão\n",
        "cm = confusion_matrix(y_teste, y_pred)\n",
        "\n",
        "plt.figure(figsize=(6,5))\n",
        "sns.heatmap(cm, annot=True, fmt='d', cmap='Blues', xticklabels=['Benigno', 'Maligno'], yticklabels=['Benigno', 'Maligno'])\n",
        "plt.xlabel('Predito')\n",
        "plt.ylabel('Real')\n",
        "plt.title('Matriz de Confusão')\n",
        "plt.show()"
      ],
      "metadata": {
        "colab": {
          "base_uri": "https://localhost:8080/",
          "height": 487
        },
        "id": "rFuQ4uk7gHOq",
        "outputId": "6c787a15-d6be-4ebc-daf4-a075d05ebd24"
      },
      "execution_count": 108,
      "outputs": [
        {
          "output_type": "display_data",
          "data": {
            "text/plain": [
              "<Figure size 600x500 with 2 Axes>"
            ],
            "image/png": "[encoded data removed]"
          },
          "metadata": {}
        }
      ]
    },
    {
      "cell_type": "code",
      "source": [
        "# Classificação de variáveis mais importantes\n",
        "importancias = pd.Series(modelo.feature_importances_, index=X.columns).sort_values(ascending=False)\n",
        "plt.figure(figsize=(10,6))\n",
        "sns.barplot(x=importancias.values[:10], y=importancias.index[:10], palette=\"mako\")\n",
        "plt.title(\"Top 10 Variáveis Mais Importantes\")\n",
        "plt.show()"
      ],
      "metadata": {
        "colab": {
          "base_uri": "https://localhost:8080/",
          "height": 654
        },
        "id": "VUjCK_5vf7Ke",
        "outputId": "23c5c7e2-21ec-4ee6-f99b-a2d3612580bc"
      },
      "execution_count": 43,
      "outputs": [
        {
          "output_type": "stream",
          "name": "stderr",
          "text": [
            "/tmp/ipython-input-43-2592004637.py:4: FutureWarning: \n",
            "\n",
            "Passing `palette` without assigning `hue` is deprecated and will be removed in v0.14.0. Assign the `y` variable to `hue` and set `legend=False` for the same effect.\n",
            "\n",
            "  sns.barplot(x=importancias.values[:10], y=importancias.index[:10], palette=\"mako\")\n"
          ]
        },
        {
          "output_type": "display_data",
          "data": {
            "text/plain": [
              "<Figure size 1000x600 with 1 Axes>"
            ],
            "image/png": "[encoded data removed]"
          },
          "metadata": {}
        }
      ]
    },
    {
      "cell_type": "markdown",
      "source": [
        "##Considerações Finais\n",
        "\n",
        "Neste estudo, foi utilizado o algoritmo Random Forest para a classificação de tumores malignos e benignos com base em atributos extraídos de imagens de exames de mama. O modelo foi treinado e testado com o conjunto de dados Breast Cancer Wisconsin (Diagnostic), contendo 569 amostras e 30 características numéricas.\n",
        "\n",
        "Após a preparação dos dados, incluindo o tratamento da variável alvo, padronização das variáveis preditoras e a divisão em treino (80%) e teste (20%), o modelo foi treinado com os parâmetros padrão do RandomForestClassifier, considerando pequenos ajustes como class weight para balancear o volume entre maligno e benigno e o numero de folhas.\n",
        "\n",
        "Com isso, tivemos um retorno de acurácia de aproximadamente ˜98%\n",
        "A matriz de confusão apresentou baixa taxa de falsos positivos e negativos e o cross validation indicou boa estabilidade com variação pequena entre as dobras.\n",
        "\n",
        "Podemos concluir que o randomforest dentro desse modelo, demonstrou uma boa acurácia e robustez, mantendo a consistência mesmo na validação cruzada. Foi eficaz nesse modelo por lidar bem com variáveis correlacionadas e por ser menos suscetível a overfiting."
      ],
      "metadata": {
        "id": "lJzfru2UvUC_"
      }
    }
  ]
}